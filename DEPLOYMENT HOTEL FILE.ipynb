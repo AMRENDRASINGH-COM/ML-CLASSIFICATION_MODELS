{
 "cells": [
  {
   "cell_type": "markdown",
   "id": "e2d81a62-dc54-4aa2-9bcd-612f3431d507",
   "metadata": {},
   "source": [
    "## DEPLOYMENT "
   ]
  },
  {
   "cell_type": "code",
   "execution_count": 1,
   "id": "fd4da5dd-6ef7-4cfb-b69b-3d376180dfdb",
   "metadata": {},
   "outputs": [],
   "source": [
    "import gradio as gr\n",
    "import pickle\n",
    "\n",
    "from warnings import filterwarnings\n",
    "filterwarnings('ignore')"
   ]
  },
  {
   "cell_type": "code",
   "execution_count": 2,
   "id": "126a5e97-3a00-4351-9b50-bda039542051",
   "metadata": {},
   "outputs": [],
   "source": [
    "with open ('final_model_gradient.pkl','rb') as file:\n",
    "    model=pickle.load(file)"
   ]
  },
  {
   "cell_type": "code",
   "execution_count": 3,
   "id": "af7d41aa-ad40-4417-b8f1-2e4d383e47f0",
   "metadata": {},
   "outputs": [
    {
     "data": {
      "text/plain": [
       "array(['lead_time', 'market_segment_type', 'no_of_special_requests',\n",
       "       'avg_price_per_room', 'no_of_adults', 'no_of_weekend_nights',\n",
       "       'required_car_parking_space', 'no_of_week_nights', 'arrival_DAY',\n",
       "       'arrival_MONTH', 'arrival_YEAR'], dtype=object)"
      ]
     },
     "execution_count": 3,
     "metadata": {},
     "output_type": "execute_result"
    }
   ],
   "source": [
    "model.feature_names_in_"
   ]
  },
  {
   "cell_type": "code",
   "execution_count": null,
   "id": "c8faae71-8072-4651-b151-8be9f3aa6cc2",
   "metadata": {},
   "outputs": [],
   "source": []
  },
  {
   "cell_type": "code",
   "execution_count": 6,
   "id": "446577e4-5b11-4295-9fe1-6f2800eb7b9b",
   "metadata": {},
   "outputs": [],
   "source": [
    "def prediction (lt,mst,spcl,price,adult,wkend,park,wk,ar_d,ar_m,ar_w):\n",
    "\n",
    "    input_data = [[lt,mst,spcl,price,adult,wkend,park,wk,ar_d,ar_m,ar_w]]\n",
    "\n",
    "    pred = model.predict_proba(input_data)[:,1][0]\n",
    "\n",
    "    if pred>0.5:\n",
    "        return f\"THIS BOOKING IS MORE LIKELY TO GET CANCELED: PROBABILITY={round(pred*100,2)}\"\n",
    "    else:\n",
    "        return f\"THIS BOOKING IS LESS LIKELY TO GET CANCELED: PROBABILITY={round(pred*100,2)}\""
   ]
  },
  {
   "cell_type": "code",
   "execution_count": null,
   "id": "249403ef-eedd-42d7-9024-0ae7d35f33c4",
   "metadata": {},
   "outputs": [],
   "source": []
  },
  {
   "cell_type": "code",
   "execution_count": 8,
   "id": "ebfaf765-6e1a-4e83-8781-c6a1ac5656d4",
   "metadata": {},
   "outputs": [],
   "source": [
    "iface=gr.Interface(fn=prediction,inputs=[gr.Number(label='HOW MANY PRIOR DAYS BOKKING WAS MADE'),\n",
    "                          gr.Dropdown([('Online',1),('Offline',0)],label='HOW THE BOOKING WAS MADE'),\n",
    "                          gr.Dropdown([0,1,2,3,4,5],label='HOW MANY SPECIAL REQUEST MADE'),\n",
    "                          gr.Number(label='WHAT IS THE PRICE PER ROOM OFFERED'),\n",
    "                          gr.Dropdown([1,2,3,4],label='How Many ADULTS PER ROOM'),\n",
    "                          gr.Number(label='HOW MANY WEEKEND NIGHTS IN THE STAY'),\n",
    "                          gr.Dropdown([('YES',1),('NO',0)],label='DOES BOOKING INCLUDES PARKING FACILITY'),\n",
    "                          gr.Number(label='HOW MANY WEEK NIGHTS IN STAY'),\n",
    "                          gr.Slider(minimum=1,maximum=31,step=1,label='WHAT IS DAY OF ARRIVAL'),\n",
    "                          gr.Slider(minimum=1,maximum=12,step=1,label='WHAT IS MONTH OF ARRIVAL'),\n",
    "                          gr.Dropdown([('Mon',0),('Tue',1),('Wed',2),('Thus',3),('Fri',4),('Sat',5),('Sun',6)],label='WHAT IS THE WEEKDAY OF ARRIVAL')],\n",
    "\n",
    "                  outputs = gr.Textbox(label='Prediction'),\n",
    "                  title='INN Group of Hotels',\n",
    "                  description='This application will forcast the calcellation of booking',\n",
    "                  allow_flagging='never')"
   ]
  },
  {
   "cell_type": "code",
   "execution_count": 9,
   "id": "001f4844-35a4-4d1f-b9a9-43c126e5d347",
   "metadata": {},
   "outputs": [
    {
     "name": "stdout",
     "output_type": "stream",
     "text": [
      "Running on local URL:  http://127.0.0.1:7860\n",
      "\n",
      "To create a public link, set `share=True` in `launch()`.\n"
     ]
    },
    {
     "data": {
      "text/html": [
       "<div><iframe src=\"http://127.0.0.1:7860/\" width=\"100%\" height=\"500\" allow=\"autoplay; camera; microphone; clipboard-read; clipboard-write;\" frameborder=\"0\" allowfullscreen></iframe></div>"
      ],
      "text/plain": [
       "<IPython.core.display.HTML object>"
      ]
     },
     "metadata": {},
     "output_type": "display_data"
    },
    {
     "data": {
      "text/plain": []
     },
     "execution_count": 9,
     "metadata": {},
     "output_type": "execute_result"
    }
   ],
   "source": [
    "iface.launch()"
   ]
  },
  {
   "cell_type": "code",
   "execution_count": null,
   "id": "9090dd94-7108-4628-8d11-5e2dd5b37725",
   "metadata": {},
   "outputs": [],
   "source": []
  }
 ],
 "metadata": {
  "kernelspec": {
   "display_name": "Python 3 (ipykernel)",
   "language": "python",
   "name": "python3"
  },
  "language_info": {
   "codemirror_mode": {
    "name": "ipython",
    "version": 3
   },
   "file_extension": ".py",
   "mimetype": "text/x-python",
   "name": "python",
   "nbconvert_exporter": "python",
   "pygments_lexer": "ipython3",
   "version": "3.12.4"
  }
 },
 "nbformat": 4,
 "nbformat_minor": 5
}
